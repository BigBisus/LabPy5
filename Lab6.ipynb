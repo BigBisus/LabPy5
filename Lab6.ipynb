{
  "nbformat": 4,
  "nbformat_minor": 0,
  "metadata": {
    "colab": {
      "provenance": [],
      "toc_visible": true,
      "authorship_tag": "ABX9TyPTu/Zhz4bO+iwxISzSJ6Bt",
      "include_colab_link": true
    },
    "kernelspec": {
      "name": "python3",
      "display_name": "Python 3"
    },
    "language_info": {
      "name": "python"
    }
  },
  "cells": [
    {
      "cell_type": "markdown",
      "metadata": {
        "id": "view-in-github",
        "colab_type": "text"
      },
      "source": [
        "<a href=\"https://colab.research.google.com/github/BigBisus/LabPy5/blob/master/Lab6.ipynb\" target=\"_parent\"><img src=\"https://colab.research.google.com/assets/colab-badge.svg\" alt=\"Open In Colab\"/></a>"
      ]
    },
    {
      "cell_type": "code",
      "execution_count": 32,
      "metadata": {
        "colab": {
          "base_uri": "https://localhost:8080/"
        },
        "id": "VeTy9R0YQMXI",
        "outputId": "87f572e9-ac12-4db9-80c9-4a1bf91a0173"
      },
      "outputs": [
        {
          "output_type": "stream",
          "name": "stdout",
          "text": [
            "     Name  Age Group  Score\n",
            "0    Анна   19     A   78.0\n",
            "1   Борис   20     B   85.0\n",
            "2  Виктор   21     A   92.0\n",
            "3  Галина   18     C   55.0\n",
            "4   Денис   22     B    NaN \n",
            "\n",
            "<class 'pandas.core.frame.DataFrame'>\n",
            "RangeIndex: 15 entries, 0 to 14\n",
            "Data columns (total 4 columns):\n",
            " #   Column  Non-Null Count  Dtype  \n",
            "---  ------  --------------  -----  \n",
            " 0   Name    15 non-null     object \n",
            " 1   Age     15 non-null     int64  \n",
            " 2   Group   13 non-null     object \n",
            " 3   Score   13 non-null     float64\n",
            "dtypes: float64(1), int64(1), object(2)\n",
            "memory usage: 612.0+ bytes\n",
            "\n",
            " None\n",
            "             Age      Score\n",
            "count  15.000000  13.000000\n",
            "mean   20.466667  73.307692\n",
            "std     1.767430  13.774279\n",
            "min    18.000000  49.000000\n",
            "25%    19.000000  64.000000\n",
            "50%    20.000000  73.000000\n",
            "75%    21.500000  85.000000\n",
            "max    24.000000  92.000000\n",
            "Средний балл студентов: 73.3076923076923\n",
            "Количество студентов в группах:\n",
            "Group\n",
            "A    5\n",
            "B    4\n",
            "C    4\n",
            "Name: count, dtype: int64\n"
          ]
        }
      ],
      "source": [
        "import pandas as pd\n",
        "\n",
        "# Загрузка данных\n",
        "df = pd.read_csv('students.csv')\n",
        "\n",
        "# Первые 5 строк\n",
        "print(df.head(),'\\n')\n",
        "\n",
        "# Информация о данных\n",
        "print('\\n',df.info())\n",
        "\n",
        "# Статистика\n",
        "print(df.describe())\n",
        "\n",
        "# Средний балл\n",
        "print(\"Средний балл студентов:\", df['Score'].mean())\n",
        "\n",
        "# Количество студентов в каждой группе\n",
        "print(\"Количество студентов в группах:\")\n",
        "print(df['Group'].value_counts())"
      ]
    },
    {
      "cell_type": "code",
      "source": [
        "import pandas as pd\n",
        "\n",
        "df = pd.read_csv('students.csv')\n",
        "\n",
        "# Студенты с баллом выше 80\n",
        "high_scores = df[df['Score'] > 80]\n",
        "\n",
        "# Сортировка по убыванию балла\n",
        "sorted_scores = high_scores.sort_values(by='Score', ascending=False)\n",
        "print(\"Студенты с баллом выше 80:\")\n",
        "print(sorted_scores)\n",
        "\n",
        "# Самый старший студент\n",
        "print(\"Самый старший студент:\")\n",
        "print(df.loc[df['Age'].idxmax()])\n",
        "\n",
        "# Самый младший студент\n",
        "print(\"Самый младший студент:\")\n",
        "print(df.loc[df['Age'].idxmin()])"
      ],
      "metadata": {
        "colab": {
          "base_uri": "https://localhost:8080/"
        },
        "id": "-u3_tj-MR-Ug",
        "outputId": "e1b25e59-5940-48ef-edaa-7b6a6e57d7d7"
      },
      "execution_count": 21,
      "outputs": [
        {
          "output_type": "stream",
          "name": "stdout",
          "text": [
            "Студенты с баллом выше 80:\n",
            "       Name  Age Group  Score\n",
            "2    Виктор   21     A   92.0\n",
            "11  Николай   24     A   90.0\n",
            "7     Игорь   23     A   88.0\n",
            "1     Борис   20     B   85.0\n",
            "10    Мария   20     C   81.0\n",
            "Самый старший студент:\n",
            "Name     Николай\n",
            "Age           24\n",
            "Group          A\n",
            "Score       90.0\n",
            "Name: 11, dtype: object\n",
            "Самый младший студент:\n",
            "Name     Галина\n",
            "Age          18\n",
            "Group         C\n",
            "Score      55.0\n",
            "Name: 3, dtype: object\n"
          ]
        }
      ]
    },
    {
      "cell_type": "code",
      "source": [
        "import pandas as pd\n",
        "\n",
        "df = pd.read_csv('students.csv')\n",
        "\n",
        "# Проверка пропусков\n",
        "print(\"Пропуски по столбцам:\")\n",
        "print(df.isnull().sum())\n",
        "\n",
        "# Заполнение пропусков в Score средним\n",
        "mean_score = df['Score'].mean()\n",
        "df['Score'] = df['Score'].fillna(mean_score)\n",
        "\n",
        "# Удаление строк с пропусками в Group\n",
        "df = df.dropna(subset=['Group'])\n",
        "\n",
        "# Проверка результата\n",
        "print(\"Данные после обработки пропусков:\")\n",
        "print(df.head())"
      ],
      "metadata": {
        "colab": {
          "base_uri": "https://localhost:8080/"
        },
        "id": "iYLXGkr1SCS5",
        "outputId": "ccdb9be8-ee4f-4d2a-9903-926ce5291cd1"
      },
      "execution_count": 22,
      "outputs": [
        {
          "output_type": "stream",
          "name": "stdout",
          "text": [
            "Пропуски по столбцам:\n",
            "Name     0\n",
            "Age      0\n",
            "Group    2\n",
            "Score    2\n",
            "dtype: int64\n",
            "Данные после обработки пропусков:\n",
            "     Name  Age Group      Score\n",
            "0    Анна   19     A  78.000000\n",
            "1   Борис   20     B  85.000000\n",
            "2  Виктор   21     A  92.000000\n",
            "3  Галина   18     C  55.000000\n",
            "4   Денис   22     B  73.307692\n"
          ]
        }
      ]
    },
    {
      "cell_type": "code",
      "source": [
        "import pandas as pd\n",
        "\n",
        "df = pd.read_csv('students.csv')\n",
        "\n",
        "# Обработка пропусков как в task3\n",
        "df['Score'] = df['Score'].fillna(df['Score'].mean())\n",
        "df = df.dropna(subset=['Group'])\n",
        "\n",
        "# Группировка по группам\n",
        "group_stats = df.groupby('Group').agg({\n",
        "    'Score': 'mean',\n",
        "    'Age': 'median'\n",
        "})\n",
        "print(\"Средний балл и медианный возраст по группам:\")\n",
        "print(group_stats)\n",
        "\n",
        "# Добавление столбца Passed\n",
        "df['Passed'] = (df['Score'] >= 60).astype(int)\n",
        "print(\"Данные со столбцом Passed:\")\n",
        "print(df.head())"
      ],
      "metadata": {
        "colab": {
          "base_uri": "https://localhost:8080/"
        },
        "id": "qeXjbYyGSEiR",
        "outputId": "5fb501df-7c2e-4d94-f244-f5e401c20cdc"
      },
      "execution_count": 23,
      "outputs": [
        {
          "output_type": "stream",
          "name": "stdout",
          "text": [
            "Средний балл и медианный возраст по группам:\n",
            "           Score   Age\n",
            "Group                 \n",
            "A      83.600000  21.0\n",
            "B      73.153846  20.5\n",
            "C      64.500000  18.5\n",
            "Данные со столбцом Passed:\n",
            "     Name  Age Group      Score  Passed\n",
            "0    Анна   19     A  78.000000       1\n",
            "1   Борис   20     B  85.000000       1\n",
            "2  Виктор   21     A  92.000000       1\n",
            "3  Галина   18     C  55.000000       0\n",
            "4   Денис   22     B  73.307692       1\n"
          ]
        }
      ]
    },
    {
      "cell_type": "code",
      "source": [
        "import pandas as pd\n",
        "import matplotlib.pyplot as plt\n",
        "\n",
        "df = pd.read_csv('students.csv')\n",
        "df['Score'] = df['Score'].fillna(df['Score'].mean())\n",
        "df = df.dropna(subset=['Group'])\n",
        "\n",
        "# Гистограмма распределения баллов\n",
        "plt.figure()\n",
        "df['Score'].hist(bins=20, edgecolor='black')\n",
        "plt.title(\"Распределение баллов\")\n",
        "plt.xlabel(\"Баллы\")\n",
        "plt.ylabel(\"Количество студентов\")\n",
        "plt.savefig(\"score_histogram.png\")\n",
        "plt.close()\n",
        "\n",
        "# Столбчатая диаграмма среднего балла по группам\n",
        "plt.figure()\n",
        "group_means = df.groupby('Group')['Score'].mean()\n",
        "group_means.plot(kind='bar', color='skyblue')\n",
        "plt.title(\"Средний балл по группам\")\n",
        "plt.xlabel(\"Группа\")\n",
        "plt.ylabel(\"Средний балл\")\n",
        "plt.savefig(\"group_scores_bar.png\")\n",
        "\n",
        "plt.show()"
      ],
      "metadata": {
        "colab": {
          "base_uri": "https://localhost:8080/",
          "height": 468
        },
        "id": "IjdTSn2hSHoQ",
        "outputId": "bbab3f14-38ae-4778-b2e5-9252af747f72"
      },
      "execution_count": 30,
      "outputs": [
        {
          "output_type": "display_data",
          "data": {
            "text/plain": [
              "<Figure size 640x480 with 1 Axes>"
            ],
            "image/png": "[encoded data removed]"
          },
          "metadata": {}
        }
      ]
    }
  ]
}